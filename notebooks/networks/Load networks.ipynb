{
 "cells": [
  {
   "cell_type": "code",
   "execution_count": null,
   "metadata": {},
   "outputs": [],
   "source": [
    "import os\n",
    "import sys\n",
    "import pandas as pd\n",
    "import torch\n",
    "from torch import nn\n",
    "\n",
    "cwd = os.path.dirname(os.getcwd())\n",
    "sys.path.append(os.path.join(cwd, '..'))\n",
    "\n",
    "from src.reasoning_agents import FFNReasoningAgent, RNN_RA"
   ]
  },
  {
   "cell_type": "markdown",
   "metadata": {},
   "source": [
    "## Load model results\n",
    "\n",
    " - sort by validation accuracy"
   ]
  },
  {
   "cell_type": "code",
   "execution_count": null,
   "metadata": {},
   "outputs": [],
   "source": [
    "res = pd.read_csv('best_networks/best.csv')\n",
    "res = res.sort_values(by='best_acc', ascending=False)\n",
    "res"
   ]
  },
  {
   "cell_type": "markdown",
   "metadata": {},
   "source": [
    "## Load best model\n",
    "\n",
    " - They are stored in the `best_networks` folder with file names `{id}.sd`, the `id` stored in the `id` column of the dataframe above"
   ]
  },
  {
   "cell_type": "code",
   "execution_count": null,
   "metadata": {},
   "outputs": [],
   "source": [
    "best_entry = res.iloc[0]\n",
    "best_id = best_entry.id\n",
    "\n",
    "\n",
    "model = FFNReasoningAgent(encoding_size=int(best_entry.encoding_size),\n",
    "                          hidden_size=int(best_entry.hidden_dim),\n",
    "                          num_hidden=int(best_entry.num_hidden_layers),\n",
    "                          nonlinearity=best_entry.nonlinearity)\n",
    "\n",
    "model.load_state_dict(torch.load(f'best_networks/{best_id}.sd'))\n",
    "\n",
    "model"
   ]
  }
 ],
 "metadata": {
  "kernelspec": {
   "display_name": "pyTorch(display)",
   "language": "python",
   "name": "pytorch"
  },
  "language_info": {
   "codemirror_mode": {
    "name": "ipython",
    "version": 3
   },
   "file_extension": ".py",
   "mimetype": "text/x-python",
   "name": "python",
   "nbconvert_exporter": "python",
   "pygments_lexer": "ipython3",
   "version": "3.6.4"
  }
 },
 "nbformat": 4,
 "nbformat_minor": 2
}
