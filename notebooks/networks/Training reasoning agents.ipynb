{
 "cells": [
  {
   "cell_type": "code",
   "execution_count": 70,
   "metadata": {},
   "outputs": [],
   "source": [
    "import os\n",
    "import sys\n",
    "import copy\n",
    "import json\n",
    "import time\n",
    "import shutil\n",
    "\n",
    "import torch\n",
    "from torch.autograd import Variable\n",
    "from torch import optim\n",
    "from torch import nn\n",
    "import numpy as np\n",
    "import pandas as pd\n",
    "import matplotlib.pyplot as plt\n",
    "%matplotlib inline\n",
    "\n",
    "# TODO: Fix sibling directory imports\n",
    "cwd = os.path.dirname(os.getcwd())\n",
    "sys.path.append(os.path.join(cwd, '..'))\n",
    "\n",
    "from src.datautils.sandia import SandiaDataProvider\n",
    "from src.utils import show_batch_of_images\n",
    "from src.models import mlp_net as mlp\n",
    "from src.reasoning_agents import FFNReasoningAgent, RNN_RA\n",
    "from src.autoencoders import PCA_autoencoder\n",
    "from src.utils import show_batch_of_images, dict_of_lists_to_list_of_dicts"
   ]
  },
  {
   "cell_type": "code",
   "execution_count": 71,
   "metadata": {},
   "outputs": [],
   "source": [
    "def train_reasoning_agent(model, img_size, encoding_size, batch_size, hidden_dim, learning_rate, optimizer,\n",
    "                         num_epochs, early_stopping=True, early_stopping_epoch_patience=5):\n",
    "    torch.manual_seed(123)\n",
    "\n",
    "    train_data = SandiaDataProvider(which_set='train', dataset_home='../../datasets/sandia/',\n",
    "                                    img_size=img_size)\n",
    "    val_data = SandiaDataProvider(which_set='valid', dataset_home='../../datasets/sandia/',\n",
    "                                  img_size=img_size)\n",
    "\n",
    "    # These are in the shape <num_questions, imsize, imsize, 16(8Q + 8A)> - transpose and reshape so that they are\n",
    "    # in the shape <num_images, img_size **2 >\n",
    "    X = train_data.inputs.transpose(3, 0, 1, 2).reshape(-1, img_size ** 2)\n",
    "\n",
    "    # \"Fit\" autoencoder to training images\n",
    "    enc = PCA_autoencoder(encoding_size)\n",
    "    enc.train(X)\n",
    "    \n",
    "    ###\n",
    "    # Encode all validation inputs and answers so that this is not done in the training loop\n",
    "    val_inputs_enc = enc.encode(val_data.inputs[..., :8].transpose(0, 3, 1, 2).reshape(-1, img_size ** 2))\n",
    "    val_inputs_enc = Variable(torch.Tensor(val_inputs_enc.reshape(len(val_data.inputs), -1, encoding_size)),\n",
    "                              volatile=True).cuda()\n",
    "    val_answers = val_data.inputs[..., 8:].transpose(0, 3, 1, 2)\n",
    "    val_correct_indices = val_data.targets\n",
    "    val_answers_enc = enc.encode(val_answers.reshape(-1, img_size ** 2)).reshape(len(val_answers), -1,\n",
    "                                                                                 encoding_size)\n",
    "    val_correct_answers = val_answers[range(len(val_data.inputs)), val_data.targets].reshape(-1, img_size ** 2)\n",
    "    val_correct_answers_enc = Variable(torch.Tensor(enc.encode(val_correct_answers)), volatile=True).cuda()\n",
    "    ###\n",
    "    \n",
    "    ##\n",
    "    # Variables for trackins statistics\n",
    "    train_losses = []\n",
    "    valid_losses = []\n",
    "    datapoints_processed = []\n",
    "    accs = []\n",
    "        \n",
    "    num_datapoints_processed = 0\n",
    "    best_val_loss = None\n",
    "    best_ep = None\n",
    "    best_model = None\n",
    "    best_acc = None\n",
    "    ##\n",
    "    \n",
    "    for ep in range(num_epochs):\n",
    "        for (inputs, answers), correct_indices in (train_data.get_batch_iterator(batch_size=batch_size,\n",
    "                                                                                 transpose_inputs=True,\n",
    "                                                                                 separate_inputs=True)):\n",
    "\n",
    "            # Get the correct answers for each example in the batch and encode them\n",
    "            # Then reshape them to batch_sizex1xencoding_size\n",
    "            correct_answers = answers[range(batch_size), list(correct_indices)]\n",
    "            encoded_correct = enc.encode(correct_answers.reshape(batch_size, img_size ** 2))\n",
    "            encoded_correct = Variable(torch.Tensor(encoded_correct), requires_grad=False).cuda().view(\n",
    "                batch_size, -1, encoding_size\n",
    "            )\n",
    "\n",
    "            # Encode all inputs in the batch and resape back to batch_size, num_images, encoding_size\n",
    "            encoded_inputs = enc.encode(inputs.reshape(-1, img_size ** 2))\n",
    "            encoded_inputs = Variable(torch.Tensor(encoded_inputs.reshape(batch_size, -1, encoding_size)),\n",
    "                                      requires_grad=False).cuda()\n",
    "\n",
    "            # Reset the gradiens in prep for a new step\n",
    "            model.zero_grad()\n",
    "\n",
    "            # Forward pass\n",
    "            prediction = model(encoded_inputs)\n",
    "\n",
    "            # Calculate training loss\n",
    "            loss = torch.mean((encoded_correct - prediction) ** 2)\n",
    "\n",
    "            # Compute gradients\n",
    "            loss.backward()\n",
    "\n",
    "            # Perform update step\n",
    "            optimizer.step()\n",
    "\n",
    "            # Calculate predictions \n",
    "            val_pred = model(val_inputs_enc)\n",
    "            \n",
    "            # Update validation loss\n",
    "            val_loss = torch.mean((val_correct_answers_enc - val_pred.view_as(val_correct_answers_enc)) ** 2)\n",
    "            \n",
    "            # Record validation accuracy\n",
    "            sqerr = np.mean((val_answers_enc - val_pred.cpu().data.numpy()) ** 2, 2)\n",
    "            # Get the index of the least sq.err for each batch\n",
    "            choice_indices = sqerr.argmin(1)\n",
    "            \n",
    "            ##\n",
    "            # Record stats\n",
    "            tot_correct = np.sum(val_correct_indices == choice_indices)\n",
    "            acc = tot_correct / len(val_answers)\n",
    "            accs.append(acc)\n",
    "            \n",
    "            train_losses.append(loss.data[0])\n",
    "            valid_losses.append(val_loss.data[0])\n",
    "            num_datapoints_processed += batch_size\n",
    "            datapoints_processed.append(num_datapoints_processed)\n",
    "                        \n",
    "            if best_val_loss is None or val_loss.data[0] < best_val_loss:\n",
    "                best_val_loss = val_loss.data[0]\n",
    "                best_loss_ep = ep\n",
    "            if best_acc is None or best_acc < acc:\n",
    "                best_acc = acc\n",
    "                best_acc_ep = ep\n",
    "                best_model = copy.deepcopy(model)\n",
    "            ##\n",
    "            \n",
    "            # Check early stopping criteria -- if neither the loss has decreased nor the accuracy\n",
    "            # has gone up -- terminate training\n",
    "            if early_stopping and ((ep - best_loss_ep) > early_stopping_epoch_patience) and ((ep - best_acc_ep) > early_stopping_epoch_patience):\n",
    "                return best_model, datapoints_processed, train_losses, valid_losses, accs, best_val_loss, best_acc, best_acc_ep + 1, ep + 1, enc\n",
    "        \n",
    "        # Record validation accuracy\n",
    "        sqerr = np.mean((val_answers_enc - val_pred.cpu().data.numpy()) ** 2, 2)\n",
    "        # Get the index of the least sq.err for each batch\n",
    "        choice_indices = sqerr.argmin(1)\n",
    "\n",
    "        tot_correct = np.sum(val_correct_indices == choice_indices)\n",
    "        accs.append(tot_correct / len(val_answers))\n",
    "            \n",
    "    \n",
    "    return best_model, datapoints_processed, train_losses, valid_losses, accs, best_val_loss, best_acc, best_acc_ep + 1, ep + 1, enc\n"
   ]
  },
  {
   "cell_type": "code",
   "execution_count": 72,
   "metadata": {},
   "outputs": [],
   "source": [
    "def train_iteration(hyperparams, res_folder, save=True, plot=False):\n",
    "    img_size = hyperparams['img_size']\n",
    "    encoding_size = hyperparams['encoding_size']\n",
    "    batch_size = hyperparams['batch_size']\n",
    "    hidden_dim = hyperparams['hidden_dim']\n",
    "    learning_rate = hyperparams['learning_rate']\n",
    "    momentum = hyperparams['momentum']\n",
    "    weight_decay = hyperparams['weight_decay']\n",
    "    num_epochs = hyperparams['num_epochs']\n",
    "    num_hidden_layers = hyperparams['num_hidden_layers']\n",
    "    agent_type = hyperparams['agent_type']\n",
    "    network_type = hyperparams['network_type']\n",
    "    patience = hyperparams['patience_epochs']\n",
    "    \n",
    "    if agent_type == 'rnn':\n",
    "        model = RNN_RA(hidden_dim=hidden_dim, input_size=encoding_size, batch_size=batch_size, network_type='vanilla')\n",
    "    else:\n",
    "        model = FFNReasoningAgent(encoding_size, hidden_dim, num_hidden=num_hidden_layers, nonlinearity=None)\n",
    "    model.cuda()\n",
    "\n",
    "    optimizer = optim.SGD(model.parameters(), lr=learning_rate, momentum=momentum, weight_decay=weight_decay)\n",
    "\n",
    "    start = time.time()\n",
    "    res = train_reasoning_agent(\n",
    "        model, img_size, encoding_size, batch_size, hidden_dim, learning_rate, optimizer, num_epochs,\n",
    "        early_stopping=True, early_stopping_epoch_patience=patience\n",
    "    )\n",
    "    best_model, dp, train_losses, valid_losses, accs, best_val_loss, best_acc, best_ep, ep_trained_for, enc = res\n",
    "    end = time.time()\n",
    "\n",
    "    print(f'{(end - start):.1f} seconds: Training stopped after {ep_trained_for} epochs'+\n",
    "          f' Best val loss: {best_val_loss:.3f}' +\n",
    "         f'Best accuracy: {best_acc:.3f} at epoch {best_ep}')\n",
    "    \n",
    "    if save:\n",
    "        # Save model\n",
    "        torch.save(best_model.state_dict(), res_folder + '/best_models/' + str(hyperparams['id']) + '.sd')\n",
    "\n",
    "        # Save results\n",
    "        hyperparams['time_sec'] = end - start\n",
    "        hyperparams['best_val_loss'] = best_val_loss\n",
    "        hyperparams['best_acc'] = best_acc\n",
    "        hyperparams['best_epoch'] = best_ep\n",
    "        hyperparams['epochs_tained_for'] = ep_trained_for\n",
    "\n",
    "        hyperparams['losses'] = {\n",
    "            'train_loss': train_losses,\n",
    "            'val_loss': valid_losses,\n",
    "            'val_acc': accs\n",
    "        }\n",
    "\n",
    "\n",
    "        with open(res_folder + str(hyperparams['id']) + '.json', 'w+') as fp:\n",
    "            json.dump(hyperparams, fp, indent=2)\n",
    "    \n",
    "    if plot:\n",
    "        fig, axs = plt.subplots(2, 1, figsize=(14, 8))\n",
    "        axs[0].grid()\n",
    "        axs[1].grid()\n",
    "\n",
    "        axs[0].plot(dp, train_losses);\n",
    "        axs[0].plot(dp, valid_losses);\n",
    "        axs[1].plot(accs);"
   ]
  },
  {
   "cell_type": "code",
   "execution_count": 88,
   "metadata": {},
   "outputs": [],
   "source": [
    "hyperparams = {\n",
    "    'img_size': [28],\n",
    "    'encoding_size': [50, 100, 150, 200, 250, 300, 400],\n",
    "    'hidden_dim': [50, 100, 150, 200, 250, 300],\n",
    "    'num_hidden_layers': [1, 2, 3, 4],\n",
    "    'agent_type': ['ff'],\n",
    "    'network_type': ['vanilla'],\n",
    "    \n",
    "    'learning_rate': [0.001, 0.05, 0.1, 0.5, 1],\n",
    "    'momentum': [0, 0.1, 0.2, 0.3, 0.4, 0.5],\n",
    "    'weight_decay': [0, 0.1, 0.3, 0.5, 0.7, 0.9],\n",
    "    'num_epochs': [60],\n",
    "    'batch_size': [4, 8, 16, 32, 64],\n",
    "    'patience_epochs': [5]\n",
    "}"
   ]
  },
  {
   "cell_type": "code",
   "execution_count": 73,
   "metadata": {},
   "outputs": [
    {
     "name": "stdout",
     "output_type": "stream",
     "text": [
      "1 out of 120:\n",
      "9.0 seconds: Training stopped after 21 epochs Best val loss: 4.129Best accuracy: 0.619 at epoch 15\n",
      "2 out of 120:\n",
      "6.3 seconds: Training stopped after 15 epochs Best val loss: 3.960Best accuracy: 0.583 at epoch 9\n",
      "3 out of 120:\n",
      "5.6 seconds: Training stopped after 14 epochs Best val loss: 3.951Best accuracy: 0.536 at epoch 7\n",
      "4 out of 120:\n",
      "7.2 seconds: Training stopped after 15 epochs Best val loss: 4.049Best accuracy: 0.488 at epoch 8\n",
      "5 out of 120:\n",
      "6.4 seconds: Training stopped after 15 epochs Best val loss: 3.848Best accuracy: 0.440 at epoch 9\n",
      "6 out of 120:\n",
      "6.6 seconds: Training stopped after 18 epochs Best val loss: 3.822Best accuracy: 0.464 at epoch 12\n",
      "7 out of 120:\n",
      "OOPS!\n",
      "8 out of 120:\n",
      "6.8 seconds: Training stopped after 16 epochs Best val loss: 4.221Best accuracy: 0.595 at epoch 10\n",
      "9 out of 120:\n",
      "6.5 seconds: Training stopped after 17 epochs Best val loss: 4.058Best accuracy: 0.583 at epoch 11\n",
      "10 out of 120:\n",
      "4.8 seconds: Training stopped after 7 epochs Best val loss: 5.265Best accuracy: 0.393 at epoch 1\n",
      "11 out of 120:\n",
      "6.4 seconds: Training stopped after 15 epochs Best val loss: 4.039Best accuracy: 0.440 at epoch 9\n",
      "12 out of 120:\n",
      "6.6 seconds: Training stopped after 19 epochs Best val loss: 3.811Best accuracy: 0.476 at epoch 11\n",
      "13 out of 120:\n",
      "OOPS!\n",
      "14 out of 120:\n",
      "OOPS!\n",
      "15 out of 120:\n",
      "6.3 seconds: Training stopped after 17 epochs Best val loss: 4.072Best accuracy: 0.619 at epoch 11\n",
      "16 out of 120:\n",
      "4.8 seconds: Training stopped after 7 epochs Best val loss: 7.197Best accuracy: 0.155 at epoch 1\n",
      "17 out of 120:\n",
      "5.0 seconds: Training stopped after 10 epochs Best val loss: 4.148Best accuracy: 0.405 at epoch 2\n",
      "18 out of 120:\n",
      "6.6 seconds: Training stopped after 19 epochs Best val loss: 3.891Best accuracy: 0.464 at epoch 13\n",
      "19 out of 120:\n",
      "OOPS!\n",
      "20 out of 120:\n",
      "OOPS!\n",
      "21 out of 120:\n",
      "5.8 seconds: Training stopped after 16 epochs Best val loss: 4.359Best accuracy: 0.595 at epoch 10\n",
      "22 out of 120:\n",
      "5.1 seconds: Training stopped after 7 epochs Best val loss: 7.434Best accuracy: 0.179 at epoch 1\n",
      "23 out of 120:\n",
      "OOPS!\n",
      "24 out of 120:\n",
      "8.3 seconds: Training stopped after 23 epochs Best val loss: 4.081Best accuracy: 0.440 at epoch 12\n",
      "25 out of 120:\n",
      "10.4 seconds: Training stopped after 21 epochs Best val loss: 4.166Best accuracy: 0.571 at epoch 15\n",
      "26 out of 120:\n",
      "9.0 seconds: Training stopped after 27 epochs Best val loss: 4.032Best accuracy: 0.583 at epoch 21\n",
      "27 out of 120:\n",
      "6.0 seconds: Training stopped after 16 epochs Best val loss: 4.113Best accuracy: 0.476 at epoch 10\n",
      "28 out of 120:\n",
      "6.7 seconds: Training stopped after 12 epochs Best val loss: 4.342Best accuracy: 0.369 at epoch 6\n",
      "29 out of 120:\n",
      "7.4 seconds: Training stopped after 15 epochs Best val loss: 4.110Best accuracy: 0.405 at epoch 9\n",
      "30 out of 120:\n",
      "6.7 seconds: Training stopped after 18 epochs Best val loss: 4.040Best accuracy: 0.393 at epoch 12\n",
      "31 out of 120:\n",
      "5.2 seconds: Training stopped after 7 epochs Best val loss: 5.958Best accuracy: 0.262 at epoch 1\n",
      "32 out of 120:\n",
      "7.5 seconds: Training stopped after 16 epochs Best val loss: 4.090Best accuracy: 0.571 at epoch 10\n",
      "33 out of 120:\n",
      "8.3 seconds: Training stopped after 22 epochs Best val loss: 4.135Best accuracy: 0.548 at epoch 16\n",
      "34 out of 120:\n",
      "OOPS!\n",
      "35 out of 120:\n",
      "9.1 seconds: Training stopped after 24 epochs Best val loss: 4.216Best accuracy: 0.381 at epoch 18\n",
      "36 out of 120:\n",
      "7.2 seconds: Training stopped after 19 epochs Best val loss: 4.078Best accuracy: 0.405 at epoch 11\n",
      "37 out of 120:\n",
      "6.9 seconds: Training stopped after 7 epochs Best val loss: 6.900Best accuracy: 0.190 at epoch 1\n",
      "38 out of 120:\n",
      "OOPS!\n",
      "39 out of 120:\n",
      "6.6 seconds: Training stopped after 17 epochs Best val loss: 4.099Best accuracy: 0.536 at epoch 11\n",
      "40 out of 120:\n",
      "6.0 seconds: Training stopped after 7 epochs Best val loss: 4.966Best accuracy: 0.333 at epoch 1\n",
      "41 out of 120:\n",
      "7.0 seconds: Training stopped after 11 epochs Best val loss: 4.408Best accuracy: 0.345 at epoch 5\n",
      "42 out of 120:\n",
      "7.2 seconds: Training stopped after 19 epochs Best val loss: 4.065Best accuracy: 0.393 at epoch 13\n",
      "43 out of 120:\n",
      "OOPS!\n",
      "44 out of 120:\n",
      "6.9 seconds: Training stopped after 7 epochs Best val loss: 5.537Best accuracy: 0.298 at epoch 1\n",
      "45 out of 120:\n",
      "6.5 seconds: Training stopped after 16 epochs Best val loss: 4.254Best accuracy: 0.524 at epoch 10\n",
      "46 out of 120:\n",
      "OOPS!\n",
      "47 out of 120:\n",
      "5.1 seconds: Training stopped after 7 epochs Best val loss: 5.282Best accuracy: 0.286 at epoch 1\n",
      "48 out of 120:\n",
      "6.0 seconds: Training stopped after 13 epochs Best val loss: 4.437Best accuracy: 0.369 at epoch 6\n",
      "49 out of 120:\n",
      "OOPS!\n",
      "50 out of 120:\n",
      "8.0 seconds: Training stopped after 16 epochs Best val loss: 4.036Best accuracy: 0.524 at epoch 10\n",
      "51 out of 120:\n",
      "9.6 seconds: Training stopped after 18 epochs Best val loss: 4.131Best accuracy: 0.464 at epoch 12\n",
      "52 out of 120:\n",
      "5.7 seconds: Training stopped after 7 epochs Best val loss: 4.758Best accuracy: 0.298 at epoch 1\n",
      "53 out of 120:\n",
      "8.3 seconds: Training stopped after 15 epochs Best val loss: 4.352Best accuracy: 0.357 at epoch 6\n",
      "54 out of 120:\n",
      "7.6 seconds: Training stopped after 19 epochs Best val loss: 4.264Best accuracy: 0.357 at epoch 13\n",
      "55 out of 120:\n",
      "6.2 seconds: Training stopped after 7 epochs Best val loss: 5.434Best accuracy: 0.286 at epoch 1\n",
      "56 out of 120:\n",
      "8.0 seconds: Training stopped after 16 epochs Best val loss: 4.070Best accuracy: 0.536 at epoch 10\n",
      "57 out of 120:\n",
      "7.0 seconds: Training stopped after 16 epochs Best val loss: 4.146Best accuracy: 0.512 at epoch 10\n",
      "58 out of 120:\n",
      "6.3 seconds: Training stopped after 8 epochs Best val loss: 4.882Best accuracy: 0.345 at epoch 2\n",
      "59 out of 120:\n",
      "6.0 seconds: Training stopped after 9 epochs Best val loss: 4.642Best accuracy: 0.298 at epoch 3\n",
      "60 out of 120:\n",
      "9.0 seconds: Training stopped after 18 epochs Best val loss: 4.322Best accuracy: 0.369 at epoch 6\n",
      "61 out of 120:\n",
      "OOPS!\n",
      "62 out of 120:\n",
      "5.5 seconds: Training stopped after 7 epochs Best val loss: 5.090Best accuracy: 0.262 at epoch 1\n",
      "63 out of 120:\n",
      "8.5 seconds: Training stopped after 19 epochs Best val loss: 4.097Best accuracy: 0.488 at epoch 10\n",
      "64 out of 120:\n",
      "6.4 seconds: Training stopped after 7 epochs Best val loss: 5.918Best accuracy: 0.226 at epoch 1\n",
      "65 out of 120:\n",
      "6.1 seconds: Training stopped after 10 epochs Best val loss: 4.654Best accuracy: 0.321 at epoch 4\n",
      "66 out of 120:\n",
      "7.4 seconds: Training stopped after 18 epochs Best val loss: 4.297Best accuracy: 0.345 at epoch 12\n",
      "67 out of 120:\n",
      "5.9 seconds: Training stopped after 7 epochs Best val loss: 6.789Best accuracy: 0.226 at epoch 1\n",
      "68 out of 120:\n",
      "5.1 seconds: Training stopped after 7 epochs Best val loss: 5.433Best accuracy: 0.298 at epoch 1\n",
      "69 out of 120:\n",
      "5.6 seconds: Training stopped after 10 epochs Best val loss: 4.568Best accuracy: 0.357 at epoch 3\n",
      "70 out of 120:\n",
      "OOPS!\n",
      "71 out of 120:\n",
      "OOPS!\n",
      "72 out of 120:\n",
      "5.2 seconds: Training stopped after 8 epochs Best val loss: 4.797Best accuracy: 0.298 at epoch 2\n",
      "73 out of 120:\n",
      "OOPS!\n",
      "74 out of 120:\n",
      "8.6 seconds: Training stopped after 20 epochs Best val loss: 4.046Best accuracy: 0.524 at epoch 14\n",
      "75 out of 120:\n",
      "8.4 seconds: Training stopped after 24 epochs Best val loss: 4.113Best accuracy: 0.476 at epoch 18\n",
      "76 out of 120:\n",
      "5.8 seconds: Training stopped after 7 epochs Best val loss: 4.979Best accuracy: 0.298 at epoch 1\n",
      "77 out of 120:\n",
      "6.7 seconds: Training stopped after 12 epochs Best val loss: 4.586Best accuracy: 0.321 at epoch 6\n",
      "78 out of 120:\n",
      "8.4 seconds: Training stopped after 19 epochs Best val loss: 4.307Best accuracy: 0.357 at epoch 13\n",
      "79 out of 120:\n",
      "OOPS!\n",
      "80 out of 120:\n",
      "7.7 seconds: Training stopped after 16 epochs Best val loss: 4.204Best accuracy: 0.476 at epoch 10\n",
      "81 out of 120:\n",
      "11.5 seconds: Training stopped after 30 epochs Best val loss: 4.191Best accuracy: 0.560 at epoch 24\n",
      "82 out of 120:\n",
      "8.6 seconds: Training stopped after 9 epochs Best val loss: 5.330Best accuracy: 0.321 at epoch 3\n",
      "83 out of 120:\n",
      "6.2 seconds: Training stopped after 9 epochs Best val loss: 4.864Best accuracy: 0.274 at epoch 2\n",
      "84 out of 120:\n",
      "7.7 seconds: Training stopped after 18 epochs Best val loss: 4.316Best accuracy: 0.381 at epoch 6\n",
      "85 out of 120:\n",
      "5.1 seconds: Training stopped after 7 epochs Best val loss: 5.616Best accuracy: 0.286 at epoch 1\n",
      "86 out of 120:\n",
      "5.2 seconds: Training stopped after 7 epochs Best val loss: 5.354Best accuracy: 0.250 at epoch 1\n",
      "87 out of 120:\n"
     ]
    },
    {
     "name": "stdout",
     "output_type": "stream",
     "text": [
      "10.4 seconds: Training stopped after 30 epochs Best val loss: 4.182Best accuracy: 0.464 at epoch 22\n",
      "88 out of 120:\n",
      "OOPS!\n",
      "89 out of 120:\n",
      "5.1 seconds: Training stopped after 9 epochs Best val loss: 4.975Best accuracy: 0.298 at epoch 3\n",
      "90 out of 120:\n",
      "5.7 seconds: Training stopped after 14 epochs Best val loss: 4.456Best accuracy: 0.310 at epoch 8\n",
      "91 out of 120:\n",
      "OOPS!\n",
      "92 out of 120:\n",
      "4.6 seconds: Training stopped after 7 epochs Best val loss: 5.340Best accuracy: 0.250 at epoch 1\n",
      "93 out of 120:\n",
      "4.6 seconds: Training stopped after 7 epochs Best val loss: 5.347Best accuracy: 0.262 at epoch 1\n",
      "94 out of 120:\n",
      "7.6 seconds: Training stopped after 7 epochs Best val loss: 6.179Best accuracy: 0.167 at epoch 1\n",
      "95 out of 120:\n",
      "4.5 seconds: Training stopped after 7 epochs Best val loss: 5.398Best accuracy: 0.238 at epoch 1\n",
      "96 out of 120:\n",
      "4.3 seconds: Training stopped after 7 epochs Best val loss: 5.547Best accuracy: 0.226 at epoch 1\n",
      "97 out of 120:\n",
      "OOPS!\n",
      "98 out of 120:\n",
      "8.4 seconds: Training stopped after 21 epochs Best val loss: 4.165Best accuracy: 0.440 at epoch 15\n",
      "99 out of 120:\n",
      "7.8 seconds: Training stopped after 24 epochs Best val loss: 4.139Best accuracy: 0.464 at epoch 18\n",
      "100 out of 120:\n",
      "5.9 seconds: Training stopped after 9 epochs Best val loss: 5.480Best accuracy: 0.262 at epoch 3\n",
      "101 out of 120:\n",
      "7.4 seconds: Training stopped after 14 epochs Best val loss: 5.418Best accuracy: 0.262 at epoch 4\n",
      "102 out of 120:\n",
      "10.3 seconds: Training stopped after 31 epochs Best val loss: 4.592Best accuracy: 0.333 at epoch 18\n",
      "103 out of 120:\n",
      "OOPS!\n",
      "104 out of 120:\n",
      "5.9 seconds: Training stopped after 11 epochs Best val loss: 4.641Best accuracy: 0.357 at epoch 4\n",
      "105 out of 120:\n",
      "7.0 seconds: Training stopped after 18 epochs Best val loss: 4.238Best accuracy: 0.440 at epoch 10\n",
      "106 out of 120:\n",
      "6.8 seconds: Training stopped after 8 epochs Best val loss: 5.682Best accuracy: 0.238 at epoch 2\n",
      "107 out of 120:\n",
      "6.6 seconds: Training stopped after 9 epochs Best val loss: 5.664Best accuracy: 0.226 at epoch 2\n",
      "108 out of 120:\n",
      "6.6 seconds: Training stopped after 18 epochs Best val loss: 5.484Best accuracy: 0.274 at epoch 8\n",
      "109 out of 120:\n",
      "OOPS!\n",
      "110 out of 120:\n",
      "5.4 seconds: Training stopped after 11 epochs Best val loss: 5.151Best accuracy: 0.333 at epoch 5\n",
      "111 out of 120:\n",
      "4.7 seconds: Training stopped after 8 epochs Best val loss: 5.193Best accuracy: 0.262 at epoch 2\n",
      "112 out of 120:\n",
      "5.1 seconds: Training stopped after 7 epochs Best val loss: 6.404Best accuracy: 0.226 at epoch 1\n",
      "113 out of 120:\n",
      "5.9 seconds: Training stopped after 9 epochs Best val loss: 6.197Best accuracy: 0.202 at epoch 2\n",
      "114 out of 120:\n",
      "6.6 seconds: Training stopped after 13 epochs Best val loss: 5.471Best accuracy: 0.262 at epoch 6\n",
      "115 out of 120:\n",
      "OOPS!\n",
      "116 out of 120:\n",
      "4.4 seconds: Training stopped after 7 epochs Best val loss: 5.594Best accuracy: 0.286 at epoch 1\n",
      "117 out of 120:\n",
      "OOPS!\n",
      "118 out of 120:\n",
      "5.1 seconds: Training stopped after 7 epochs Best val loss: 6.456Best accuracy: 0.155 at epoch 1\n",
      "119 out of 120:\n",
      "5.4 seconds: Training stopped after 7 epochs Best val loss: 6.195Best accuracy: 0.167 at epoch 1\n",
      "120 out of 120:\n",
      "6.2 seconds: Training stopped after 11 epochs Best val loss: 5.946Best accuracy: 0.179 at epoch 5\n"
     ]
    }
   ],
   "source": [
    "save = True\n",
    "plot = False\n",
    "\n",
    "if save:\n",
    "    folder = 'results/test/'\n",
    "    if not os.path.exists(folder + '/best_models'):\n",
    "        os.makedirs(folder + '/best_models')\n",
    "    \n",
    "num_models = len(os.listdir(folder)) - 1\n",
    "hypers_list = dict_of_lists_to_list_of_dicts(hyperparams)\n",
    "for i, h in enumerate(hypers_list):\n",
    "    print(f'{i+1} out of {len(hypers_list)}:')\n",
    "    h['id'] = num_models + i\n",
    "    try:\n",
    "        train_iteration(h, folder, save=save, plot=plot)\n",
    "    except Exception:\n",
    "        print('OOPS!')"
   ]
  },
  {
   "cell_type": "code",
   "execution_count": 89,
   "metadata": {},
   "outputs": [
    {
     "data": {
      "text/plain": [
       "151200"
      ]
     },
     "execution_count": 89,
     "metadata": {},
     "output_type": "execute_result"
    }
   ],
   "source": [
    "hypers_list = dict_of_lists_to_list_of_dicts(hyperparams)\n",
    "# np.random.choice(hypers_list, 10)\n",
    "\n",
    "len(hypers_list)"
   ]
  },
  {
   "cell_type": "code",
   "execution_count": 15,
   "metadata": {},
   "outputs": [
    {
     "data": {
      "text/plain": [
       "0.4128166915052161"
      ]
     },
     "execution_count": 15,
     "metadata": {},
     "output_type": "execute_result"
    }
   ],
   "source": [
    "valid_data = SandiaDataProvider(which_set='valid', dataset_home='../../datasets/sandia/', img_size=img_size)\n",
    "train_data = SandiaDataProvider(which_set='train', dataset_home='../../datasets/sandia/', img_size=img_size)\n",
    "\n",
    "def measure_acc(data, model, enc):\n",
    "\n",
    "    tot_q = 0\n",
    "    tot_correct = 0\n",
    "    batch_size = 1\n",
    "\n",
    "    for (inputs, answers), correct_indices in data.get_batch_iterator(batch_size=batch_size,\n",
    "                                                                           transpose_inputs=True,\n",
    "                                                                           separate_inputs=True):\n",
    "        encoded_answers = enc.encode(answers.reshape(-1, img_size ** 2)).reshape(batch_size, -1,\n",
    "                                                                                 encoding_size)\n",
    "\n",
    "        correct_answers = answers[range(batch_size), list(correct_indices)]\n",
    "        encoded_correct = enc.encode(correct_answers.reshape(batch_size, img_size ** 2))\n",
    "        encoded_correct = Variable(torch.Tensor(encoded_correct), requires_grad=False).cuda()\n",
    "\n",
    "        # Encode alAdaml inputs in the batch and resape back to batch_size, num_images, encoding_size\n",
    "        encoded_inputs = enc.encode(inputs.reshape(-1, img_size ** 2))\n",
    "        encoded_inputs = Variable(torch.Tensor(encoded_inputs.reshape(batch_size, -1, encoding_size)),\n",
    "                                  requires_grad=False).cuda()\n",
    "\n",
    "        prediction = model(encoded_inputs)\n",
    "\n",
    "        sqerr = np.mean((encoded_answers - prediction.cpu().data.numpy()) ** 2, 2)\n",
    "        # Get the index of the least sq.err for each batch\n",
    "        choice_indices = sqerr.argmin(1)\n",
    "\n",
    "        tot_q += len(correct_indices)\n",
    "        tot_correct += np.sum(correct_indices == choice_indices)\n",
    "\n",
    "        preds_dec = enc.decode(prediction.view(-1, encoding_size).cpu().data.numpy()).reshape(batch_size, img_size, img_size)\n",
    "        correct_dec = enc.decode(encoded_correct.cpu().data.numpy()).reshape(batch_size, img_size, img_size)\n",
    "        \n",
    "    return tot_correct / tot_q\n",
    "\n",
    "measure_acc(train_data, best_model, enc)"
   ]
  },
  {
   "cell_type": "code",
   "execution_count": 17,
   "metadata": {},
   "outputs": [],
   "source": [
    "torch.save(best_model.state_dict(), 'model.sd')"
   ]
  },
  {
   "cell_type": "code",
   "execution_count": 24,
   "metadata": {},
   "outputs": [
    {
     "data": {
      "text/plain": [
       "FFNReasoningAgent(\n",
       "  (first_layer): Linear(in_features=2080, out_features=160)\n",
       "  (middle_layers): ModuleList(\n",
       "    (0): Linear(in_features=160, out_features=160)\n",
       "    (1): Linear(in_features=160, out_features=160)\n",
       "    (2): Linear(in_features=160, out_features=160)\n",
       "  )\n",
       "  (final_layer): Linear(in_features=160, out_features=260)\n",
       ")"
      ]
     },
     "execution_count": 24,
     "metadata": {},
     "output_type": "execute_result"
    }
   ],
   "source": [
    "best_model = FFNReasoningAgent(encoding_size, hidden_dim, num_hidden=num_hidden_layers, nonlinearity=None)\n",
    "best_model.load_state_dict(torch.load('model.sd'))\n",
    "best_model.cuda()"
   ]
  },
  {
   "cell_type": "code",
   "execution_count": 25,
   "metadata": {},
   "outputs": [
    {
     "data": {
      "text/plain": [
       "0.40476190476190477"
      ]
     },
     "execution_count": 25,
     "metadata": {},
     "output_type": "execute_result"
    }
   ],
   "source": [
    "measure_acc(valid_data, best_model, enc)"
   ]
  },
  {
   "cell_type": "code",
   "execution_count": null,
   "metadata": {},
   "outputs": [],
   "source": [
    "df = pd.DataFrame(columns=[\n",
    "    'network_type',\n",
    "    'hidden_size',\n",
    "    'embedding_size',\n",
    "    'learning_rate',\n",
    "    'batch_size',\n",
    "    \n",
    "])\n",
    "for network_type in ['vanilla', 'lstm']:\n",
    "    for "
   ]
  },
  {
   "cell_type": "code",
   "execution_count": 135,
   "metadata": {
    "scrolled": false
   },
   "outputs": [
    {
     "data": {
      "image/png": "[encoded data removed]",
      "text/plain": [
       "<matplotlib.figure.Figure at 0x7f83122aed68>"
      ]
     },
     "metadata": {},
     "output_type": "display_data"
    },
    {
     "data": {
      "image/png": "[encoded data removed]",
      "text/plain": [
       "<matplotlib.figure.Figure at 0x7f82fd962c18>"
      ]
     },
     "metadata": {},
     "output_type": "display_data"
    },
    {
     "data": {
      "image/png": "[encoded data removed]",
      "text/plain": [
       "<matplotlib.figure.Figure at 0x7f82fd26ff60>"
      ]
     },
     "metadata": {},
     "output_type": "display_data"
    },
    {
     "data": {
      "image/png": "[encoded data removed]",
      "text/plain": [
       "<matplotlib.figure.Figure at 0x7f8312f78e48>"
      ]
     },
     "metadata": {},
     "output_type": "display_data"
    },
    {
     "data": {
      "image/png": "[encoded data removed]",
      "text/plain": [
       "<matplotlib.figure.Figure at 0x7f82f72c2550>"
      ]
     },
     "metadata": {},
     "output_type": "display_data"
    },
    {
     "data": {
      "image/png": "[encoded data removed]",
      "text/plain": [
       "<matplotlib.figure.Figure at 0x7f8313634c50>"
      ]
     },
     "metadata": {},
     "output_type": "display_data"
    },
    {
     "data": {
      "image/png": "[encoded data removed]",
      "text/plain": [
       "<matplotlib.figure.Figure at 0x7f82fd97b208>"
      ]
     },
     "metadata": {},
     "output_type": "display_data"
    },
    {
     "data": {
      "image/png": "[encoded data removed]",
      "text/plain": [
       "<matplotlib.figure.Figure at 0x7f82f6ae9f28>"
      ]
     },
     "metadata": {},
     "output_type": "display_data"
    },
    {
     "data": {
      "image/png": "[encoded data removed]",
      "text/plain": [
       "<matplotlib.figure.Figure at 0x7f83135f2eb8>"
      ]
     },
     "metadata": {},
     "output_type": "display_data"
    },
    {
     "data": {
      "image/png": "[encoded data removed]",
      "text/plain": [
       "<matplotlib.figure.Figure at 0x7f82fd25c7f0>"
      ]
     },
     "metadata": {},
     "output_type": "display_data"
    }
   ],
   "source": [
    "###############################\n",
    "###### Plot some outputs ######\n",
    "###############################\n",
    "\n",
    "batch_size = 10\n",
    "# test_data = SandiaDataProvider(which_set='valid', dataset_home='../../datasets/sandia/', img_size=img_size)\n",
    "\n",
    "# Get a batch of validation images\n",
    "(inputs, answers), correct_indices = next(test_data.get_batch_iterator(batch_size=batch_size,\n",
    "                                                                       transpose_inputs=True,\n",
    "                                                                       separate_inputs=True))\n",
    "\n",
    "correct_answers = answers[range(batch_size), list(correct_indices)]\n",
    "encoded_correct = enc.encode(correct_answers.reshape(batch_size, img_size ** 2))\n",
    "encoded_correct = Variable(torch.Tensor(encoded_correct), requires_grad=False).cuda()\n",
    "\n",
    "# Encode all inputs in the batch and resape back to batch_size, num_images, encoding_size\n",
    "encoded_inputs = enc.encode(inputs.reshape(-1, img_size ** 2))\n",
    "encoded_inputs = Variable(torch.Tensor(encoded_inputs.reshape(batch_size, -1, encoding_size)),\n",
    "                          requires_grad=False).cuda()\n",
    "\n",
    "prediction = best_model(encoded_inputs)\n",
    "\n",
    "\n",
    "preds_dec = enc.decode(prediction.view(-1, encoding_size).cpu().data.numpy()).reshape(batch_size, img_size, img_size)\n",
    "correct_dec = enc.decode(encoded_correct.cpu().data.numpy()).reshape(batch_size, img_size, img_size)\n",
    "\n",
    "for pred, corr, dec in zip(preds_dec, correct_answers, correct_dec):\n",
    "    fig, axs = plt.subplots(1, 3, figsize=(12, 4))\n",
    "    axs[0].axis('off')\n",
    "    axs[1].axis('off')\n",
    "    axs[2].axis('off')\n",
    "    \n",
    "    axs[0].imshow(pred)\n",
    "    axs[1].imshow(dec)    \n",
    "    axs[2].imshow(corr)        "
   ]
  },
  {
   "cell_type": "code",
   "execution_count": 93,
   "metadata": {},
   "outputs": [
    {
     "data": {
      "text/plain": [
       "(3, 8, 100)"
      ]
     },
     "execution_count": 93,
     "metadata": {},
     "output_type": "execute_result"
    }
   ],
   "source": [
    "x.data.cpu().numpy().shape"
   ]
  },
  {
   "cell_type": "code",
   "execution_count": 29,
   "metadata": {},
   "outputs": [
    {
     "ename": "NameError",
     "evalue": "name 'inputs' is not defined",
     "output_type": "error",
     "traceback": [
      "\u001b[0;31m---------------------------------------------------------------------------\u001b[0m",
      "\u001b[0;31mNameError\u001b[0m                                 Traceback (most recent call last)",
      "\u001b[0;32m<ipython-input-29-cc3d596837f6>\u001b[0m in \u001b[0;36m<module>\u001b[0;34m()\u001b[0m\n\u001b[1;32m      1\u001b[0m \u001b[0mi\u001b[0m \u001b[0;34m=\u001b[0m \u001b[0;36m1\u001b[0m\u001b[0;34m\u001b[0m\u001b[0m\n\u001b[1;32m      2\u001b[0m \u001b[0mfig\u001b[0m \u001b[0;34m=\u001b[0m \u001b[0mplt\u001b[0m\u001b[0;34m.\u001b[0m\u001b[0mfigure\u001b[0m\u001b[0;34m(\u001b[0m\u001b[0;34m)\u001b[0m\u001b[0;34m\u001b[0m\u001b[0m\n\u001b[0;32m----> 3\u001b[0;31m \u001b[0mshow_batch_of_images\u001b[0m\u001b[0;34m(\u001b[0m\u001b[0minputs\u001b[0m\u001b[0;34m[\u001b[0m\u001b[0mi\u001b[0m\u001b[0;34m,\u001b[0m \u001b[0;34m:\u001b[0m\u001b[0;36m8\u001b[0m\u001b[0;34m]\u001b[0m\u001b[0;34m,\u001b[0m \u001b[0mfig\u001b[0m\u001b[0;34m)\u001b[0m\u001b[0;34m;\u001b[0m\u001b[0;34m\u001b[0m\u001b[0m\n\u001b[0m\u001b[1;32m      4\u001b[0m \u001b[0mfig\u001b[0m \u001b[0;34m=\u001b[0m \u001b[0mplt\u001b[0m\u001b[0;34m.\u001b[0m\u001b[0mfigure\u001b[0m\u001b[0;34m(\u001b[0m\u001b[0;34m)\u001b[0m\u001b[0;34m\u001b[0m\u001b[0m\n\u001b[1;32m      5\u001b[0m \u001b[0mshow_batch_of_images\u001b[0m\u001b[0;34m(\u001b[0m\u001b[0menc\u001b[0m\u001b[0;34m.\u001b[0m\u001b[0mdecode\u001b[0m\u001b[0;34m(\u001b[0m\u001b[0mencoded_inputs\u001b[0m\u001b[0;34m)\u001b[0m\u001b[0;34m.\u001b[0m\u001b[0mreshape\u001b[0m\u001b[0;34m(\u001b[0m\u001b[0mbatch_size\u001b[0m\u001b[0;34m,\u001b[0m \u001b[0;34m-\u001b[0m\u001b[0;36m1\u001b[0m\u001b[0;34m,\u001b[0m \u001b[0mimg_size\u001b[0m\u001b[0;34m,\u001b[0m \u001b[0mimg_size\u001b[0m\u001b[0;34m)\u001b[0m\u001b[0;34m[\u001b[0m\u001b[0mi\u001b[0m\u001b[0;34m,\u001b[0m \u001b[0;34m:\u001b[0m\u001b[0;36m9\u001b[0m\u001b[0;34m]\u001b[0m\u001b[0;34m,\u001b[0m \u001b[0mfig\u001b[0m\u001b[0;34m)\u001b[0m\u001b[0;34m;\u001b[0m\u001b[0;34m\u001b[0m\u001b[0m\n",
      "\u001b[0;31mNameError\u001b[0m: name 'inputs' is not defined"
     ]
    },
    {
     "data": {
      "text/plain": [
       "<matplotlib.figure.Figure at 0x7f885ae4d6d8>"
      ]
     },
     "metadata": {},
     "output_type": "display_data"
    }
   ],
   "source": [
    "i = 1\n",
    "fig = plt.figure()\n",
    "show_batch_of_images(inputs[i, :8], fig);\n",
    "fig = plt.figure()\n",
    "show_batch_of_images(enc.decode(encoded_inputs).reshape(batch_size, -1, img_size, img_size)[i, :9], fig);"
   ]
  }
 ],
 "metadata": {
  "kernelspec": {
   "display_name": "pyTorch(display)",
   "language": "python",
   "name": "pytorch"
  },
  "language_info": {
   "codemirror_mode": {
    "name": "ipython",
    "version": 3
   },
   "file_extension": ".py",
   "mimetype": "text/x-python",
   "name": "python",
   "nbconvert_exporter": "python",
   "pygments_lexer": "ipython3",
   "version": "3.6.4"
  }
 },
 "nbformat": 4,
 "nbformat_minor": 2
}
