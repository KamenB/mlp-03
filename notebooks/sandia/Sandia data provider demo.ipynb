{
 "cells": [
  {
   "cell_type": "code",
   "execution_count": 1,
   "metadata": {},
   "outputs": [],
   "source": [
    "import os\n",
    "import sys\n",
    "# TODO: Fix sibling directory imports\n",
    "cwd = os.path.dirname(os.getcwd())\n",
    "sys.path.append(os.path.join(cwd, '..'))\n",
    "\n",
    "from src.datautils.sandia import SandiaDataProvider\n",
    "import matplotlib.pyplot as plt\n",
    "%matplotlib inline\n",
    "\n",
    "num_epochs = 1\n",
    "batch_size = 6"
   ]
  },
  {
   "cell_type": "markdown",
   "metadata": {},
   "source": [
    "Create a data provider"
   ]
  },
  {
   "cell_type": "code",
   "execution_count": 2,
   "metadata": {},
   "outputs": [],
   "source": [
    "train_data = SandiaDataProvider(which_set='train', dataset_home='../../datasets/sandia/', img_size=28)"
   ]
  },
  {
   "cell_type": "markdown",
   "metadata": {},
   "source": [
    "Get an iterator object"
   ]
  },
  {
   "cell_type": "code",
   "execution_count": 3,
   "metadata": {},
   "outputs": [],
   "source": [
    "batch_iterator = train_data.get_batch_iterator(batch_size=batch_size)"
   ]
  },
  {
   "cell_type": "markdown",
   "metadata": {},
   "source": [
    "On which you can call `next()`"
   ]
  },
  {
   "cell_type": "code",
   "execution_count": 4,
   "metadata": {},
   "outputs": [
    {
     "name": "stdout",
     "output_type": "stream",
     "text": [
      "[(6, 28, 28, 16), (6,)]\n",
      "[4 7 7 5 8 3]\n"
     ]
    }
   ],
   "source": [
    "inputs, targets = next(batch_iterator)\n",
    "print([x.shape for x in [inputs, targets]])\n",
    "print(targets)"
   ]
  },
  {
   "cell_type": "markdown",
   "metadata": {},
   "source": [
    "The first dimension is the batch size"
   ]
  },
  {
   "cell_type": "code",
   "execution_count": 5,
   "metadata": {},
   "outputs": [],
   "source": [
    "first_input = inputs[0]"
   ]
  },
  {
   "cell_type": "markdown",
   "metadata": {},
   "source": [
    "The second and third are the image size, the last one is the channels - 8 for the question images and 8 for the answers"
   ]
  },
  {
   "cell_type": "code",
   "execution_count": 6,
   "metadata": {},
   "outputs": [
    {
     "data": {
      "image/png": "[encoded data removed]",
      "text/plain": [
       "<matplotlib.figure.Figure at 0x7fc7e810da90>"
      ]
     },
     "metadata": {},
     "output_type": "display_data"
    }
   ],
   "source": [
    "first_input_question_imgs = first_input[:, :, :8]\n",
    "plt.figure(figsize=(2,2))\n",
    "plt.imshow(first_input_question_imgs[:, :, 0]);"
   ]
  },
  {
   "cell_type": "code",
   "execution_count": 7,
   "metadata": {},
   "outputs": [
    {
     "data": {
      "image/png": "[encoded data removed]",
      "text/plain": [
       "<matplotlib.figure.Figure at 0x7fc7e95eec88>"
      ]
     },
     "metadata": {},
     "output_type": "display_data"
    }
   ],
   "source": [
    "first_input_answer_imgs = first_input[:, :, 8:]\n",
    "plt.figure(figsize=(2,2))\n",
    "plt.imshow(first_input_answer_imgs[:, :, 0]);"
   ]
  },
  {
   "cell_type": "markdown",
   "metadata": {},
   "source": [
    "Or iterate over"
   ]
  },
  {
   "cell_type": "code",
   "execution_count": 8,
   "metadata": {},
   "outputs": [
    {
     "name": "stdout",
     "output_type": "stream",
     "text": [
      "125\n"
     ]
    }
   ],
   "source": [
    "num_batches = 0\n",
    "for batch in batch_iterator:\n",
    "    # Do something here\n",
    "    num_batches += 1\n",
    "print(num_batches)"
   ]
  },
  {
   "cell_type": "markdown",
   "metadata": {},
   "source": [
    "A training loop would look like this:"
   ]
  },
  {
   "cell_type": "code",
   "execution_count": 9,
   "metadata": {},
   "outputs": [],
   "source": [
    "for epoch in range(num_epochs):\n",
    "    # Get a generator object at the start of each epoch\n",
    "    batch_iterator = train_data.get_batch_iterator(batch_size=batch_size)\n",
    "    \n",
    "    # And loop over batches\n",
    "    for batch in batch_iterator:\n",
    "        # Do whatever you want to do with the data here\n",
    "                pass"
   ]
  },
  {
   "cell_type": "markdown",
   "metadata": {},
   "source": [
    "## Targets"
   ]
  },
  {
   "cell_type": "markdown",
   "metadata": {},
   "source": [
    "Calling `get_batch_iterator()` with the `type_targets` flag set to true, will return a generator that yields the 8 question images as inputs and integers in [0;3] as targets - those correspond to the type of question - 0, 1, 2, 3 are 1_layer, 2_layer, 3_layer and logical, respectively"
   ]
  },
  {
   "cell_type": "code",
   "execution_count": 13,
   "metadata": {},
   "outputs": [
    {
     "name": "stdout",
     "output_type": "stream",
     "text": [
      "(10, 28, 28, 8)\n",
      "[2 0 2 2 2 2 1 2 2 1]\n"
     ]
    }
   ],
   "source": [
    "type_it = train_data.get_batch_iterator(10, type_targets=True)\n",
    "\n",
    "inp, tar = next(type_it)\n",
    "print(inp.shape)\n",
    "print(tar)"
   ]
  },
  {
   "cell_type": "markdown",
   "metadata": {},
   "source": [
    "## Only images"
   ]
  },
  {
   "cell_type": "code",
   "execution_count": null,
   "metadata": {},
   "outputs": [],
   "source": []
  },
  {
   "cell_type": "code",
   "execution_count": 16,
   "metadata": {},
   "outputs": [
    {
     "name": "stdout",
     "output_type": "stream",
     "text": [
      "torch.Size([10, 1, 28, 28])\n",
      "None\n"
     ]
    }
   ],
   "source": [
    "img_it = train_data.get_image_batch_iterator(10)\n",
    "inp, tar = next(img_it)\n",
    "print(inp.shape)\n",
    "print(tar)"
   ]
  }
 ],
 "metadata": {
  "kernelspec": {
   "display_name": "Python 3",
   "language": "python",
   "name": "python3"
  },
  "language_info": {
   "codemirror_mode": {
    "name": "ipython",
    "version": 3
   },
   "file_extension": ".py",
   "mimetype": "text/x-python",
   "name": "python",
   "nbconvert_exporter": "python",
   "pygments_lexer": "ipython3",
   "version": "3.6.4"
  }
 },
 "nbformat": 4,
 "nbformat_minor": 2
}
