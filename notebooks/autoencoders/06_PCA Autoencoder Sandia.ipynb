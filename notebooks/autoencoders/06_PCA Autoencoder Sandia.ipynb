{
 "cells": [
  {
   "cell_type": "code",
   "execution_count": 1,
   "metadata": {},
   "outputs": [],
   "source": [
    "from __future__ import print_function\n",
    "import argparse\n",
    "import torch\n",
    "import torch.nn as nn\n",
    "import torch.nn.functional as F\n",
    "import torch.optim as optim\n",
    "from torchvision import datasets, transforms\n",
    "from torch.autograd import Variable\n",
    "import math\n",
    "import matplotlib.pyplot as plt\n",
    "%matplotlib inline\n",
    "import numpy as np"
   ]
  },
  {
   "cell_type": "markdown",
   "metadata": {},
   "source": [
    "# Running from the root makes things easy"
   ]
  },
  {
   "cell_type": "code",
   "execution_count": 2,
   "metadata": {},
   "outputs": [
    {
     "name": "stdout",
     "output_type": "stream",
     "text": [
      "/media/yasen/storage/studies/uoe/mlp/sem2/mlp-03\n"
     ]
    }
   ],
   "source": [
    "%cd ../.."
   ]
  },
  {
   "cell_type": "code",
   "execution_count": 3,
   "metadata": {},
   "outputs": [],
   "source": [
    "from src.datautils.sandia import SandiaDataProvider"
   ]
  },
  {
   "cell_type": "markdown",
   "metadata": {},
   "source": [
    "# Setup data provider"
   ]
  },
  {
   "cell_type": "code",
   "execution_count": 4,
   "metadata": {},
   "outputs": [],
   "source": [
    "train_batch_size = 32\n",
    "test_batch_size = 3\n",
    "\n",
    "# train_loader = torch.utils.data.DataLoader(\n",
    "#     datasets.MNIST('datasets/mnist', train=True, download=True,\n",
    "#                    transform=transforms.Compose([\n",
    "#                        transforms.ToTensor(),\n",
    "#                        transforms.Normalize((0.1307,), (0.3081,))\n",
    "#                    ])),\n",
    "#     batch_size=train_batch_size, shuffle=True)\n",
    "# test_loader = torch.utils.data.DataLoader(\n",
    "#     datasets.MNIST('datasets/mnist', train=False, transform=transforms.Compose([\n",
    "#                        transforms.ToTensor(),\n",
    "#                        transforms.Normalize((0.1307,), (0.3081,))\n",
    "#                    ])),\n",
    "#     batch_size=test_batch_size, shuffle=True)\n",
    "\n",
    "train_data = SandiaDataProvider(which_set='train',\n",
    "                                  dataset_home='datasets/sandia/',\n",
    "                                  img_size=28)\n",
    "test_data = SandiaDataProvider(which_set='test',\n",
    "                                  dataset_home='datasets/sandia/',\n",
    "                                  img_size=28,\n",
    "                                  normalize_mean=train_data.normalize_mean,\n",
    "                                  normalize_sd=train_data.normalize_sd)\n",
    "# Reload these every time you start an epoch\n",
    "train_loader = train_data.get_batch_iterator(train_batch_size)\n",
    "test_loader = test_data.get_batch_iterator(test_batch_size)"
   ]
  },
  {
   "cell_type": "markdown",
   "metadata": {},
   "source": [
    "# Define models"
   ]
  },
  {
   "cell_type": "code",
   "execution_count": 12,
   "metadata": {},
   "outputs": [],
   "source": [
    "lr = 0.01\n",
    "momentum = 0.5\n",
    "cuda = True\n",
    "latent_size = 10\n",
    "\n",
    "from src.autoencoders import PCA_autoencoder\n",
    "\n",
    "class ReasoningAgent(nn.Module):\n",
    "    def __init__(self, latent_size):\n",
    "        super(ReasoningAgent, self).__init__()\n",
    "        self.latent_size = latent_size\n",
    "        self.affine = nn.Linear(latent_size*8, latent_size)\n",
    "        \n",
    "    def forward(self, latent_vectors):\n",
    "        # Reshape num_batch, num_im, latent_size -> num_batch, num_im * latent_size\n",
    "        num_batch, num_im, latent_size = latent_vectors.size()\n",
    "        reshaped_latent = latent_vectors.view(num_batch, num_im * latent_size)\n",
    "        latent_prediction = self.affine(reshaped_latent)\n",
    "        return latent_prediction\n",
    "    \n",
    "class Architecture(nn.Module):\n",
    "    def __init__(self, latent_size):\n",
    "        super(Architecture, self).__init__()\n",
    "        self.latent_size = latent_size\n",
    "        self.autoencoder = PCA_autoencoder(self.latent_size)\n",
    "        self.reasoning_agent = ReasoningAgent(self.latent_size)\n",
    "        \n",
    "    def forward(self, inputs):\n",
    "        # inputs and choices are num_batch, im_width, im_height, num_im\n",
    "        num_batch, im_width, im_height, num_im = inputs.size()\n",
    "        \n",
    "        # These are in the shape <num_questions, imsize, imsize, 16(8Q + 8A)> - transpose and reshape so that they are\n",
    "        # in the shape <num_images, img_size **2 >\n",
    "        flattened_inputs = inputs.permute(0, 3, 1, 2).contiguous().view(-1, im_width * im_height)\n",
    "\n",
    "        # Get latent vectors\n",
    "        latent_inputs = self.autoencoder.encode(flattened_inputs.cpu().data.numpy())\n",
    "        \n",
    "        # Convert to Torch variable\n",
    "        latent_inputs = torch.from_numpy(latent_inputs).float()\n",
    "        if cuda:\n",
    "            latent_inputs = latent_inputs.cuda()\n",
    "        latent_inputs = Variable(latent_inputs)\n",
    "        \n",
    "        # Reshape to regain structure of problem\n",
    "        latent_inputs = latent_inputs.view(num_batch, num_im, self.latent_size)\n",
    "        \n",
    "        # Get latent prediction\n",
    "        latent_prediction = self.reasoning_agent(latent_inputs)\n",
    "        \n",
    "        return latent_prediction\n",
    "    \n",
    "model = Architecture(100)\n",
    "# model = Autoencoder(10)\n",
    "if cuda:\n",
    "    model.cuda()\n",
    "\n",
    "optimizer = optim.SGD(model.parameters(), lr=lr, momentum=momentum)"
   ]
  },
  {
   "cell_type": "markdown",
   "metadata": {},
   "source": [
    "# Train models"
   ]
  },
  {
   "cell_type": "code",
   "execution_count": 13,
   "metadata": {},
   "outputs": [],
   "source": [
    "log_interval = 50\n",
    "losses = []\n",
    "            \n",
    "def train(epoch, matrix_types=None):\n",
    "    train_data = SandiaDataProvider(which_set='train',\n",
    "                                  dataset_home='datasets/sandia/',\n",
    "                                  img_size=28,\n",
    "                                  matrix_types=matrix_types)\n",
    "    train_loader = train_data.get_batch_iterator(train_batch_size)\n",
    "    \n",
    "    # Pretrain the PCA encoder\n",
    "    X = train_data.inputs.transpose(3, 0, 1, 2).reshape(-1, 28 * 28)\n",
    "    model.autoencoder.train(X)\n",
    "    model.train()\n",
    "    # Get new gen object at every epoch\n",
    "    for batch_idx, (data, labels) in enumerate(train_loader):\n",
    "        batch_size = len(data)\n",
    "        data, labels = torch.from_numpy(data).float(), torch.from_numpy(labels).long()\n",
    "        if cuda:\n",
    "            data, labels = data.cuda(), labels.cuda()\n",
    "        data, labels = Variable(data), Variable(labels)\n",
    "        optimizer.zero_grad()\n",
    "        latent_predictions = model(data[:, :, :, :8])\n",
    "        choices = data[:, :, :, 8:].permute(3, 0, 1, 2)\n",
    "        indices = torch.from_numpy(np.arange(len(data))).long()\n",
    "        if cuda:\n",
    "            indices = indices.cuda()\n",
    "        targets = choices[labels.data, indices].squeeze()\n",
    "        # Get latent representations of targets\n",
    "        targets = targets.view(batch_size, -1)\n",
    "        latent_targets = model.autoencoder.encode(targets.cpu().data.numpy())\n",
    "        # Convert to Torch variable\n",
    "        latent_targets = torch.from_numpy(latent_targets).float()\n",
    "        if cuda:\n",
    "            latent_targets = latent_targets.cuda()\n",
    "        latent_targets = Variable(latent_targets)\n",
    "        loss = F.mse_loss(latent_predictions, latent_targets)\n",
    "        loss.backward()\n",
    "        optimizer.step()\n",
    "        losses.append(loss.data[0])\n",
    "        if batch_idx % log_interval == 0:\n",
    "            print('Train Epoch: {0} Loss: {1:.6f}'.format(epoch, loss.data[0]))\n",
    "\n",
    "def test(matrix_types=None):\n",
    "    model.eval()\n",
    "    test_loss = 0\n",
    "    correct = 0\n",
    "    img_size = 28\n",
    "    # Get a fresh generator object\n",
    "    test_data = SandiaDataProvider(which_set='test',\n",
    "                                  dataset_home='datasets/sandia/',\n",
    "                                  img_size=img_size,\n",
    "                                  matrix_types=matrix_types,\n",
    "                                  normalize_mean=train_data.normalize_mean,\n",
    "                                  normalize_sd=train_data.normalize_sd)\n",
    "    test_loader = test_data.get_batch_iterator(test_batch_size)\n",
    "    for batch_idx, (data, labels) in enumerate(test_loader):\n",
    "        batch_size = len(data)\n",
    "        data, labels = torch.from_numpy(data).float(), torch.from_numpy(labels).long()\n",
    "        if cuda:\n",
    "            data, labels = data.cuda(), labels.cuda()\n",
    "        data, labels = Variable(data), Variable(labels)\n",
    "        optimizer.zero_grad()\n",
    "        latent_predictions = model(data[:, :, :, :8])\n",
    "        choices = data[:, :, :, 8:].permute(3, 0, 1, 2)\n",
    "        indices = torch.from_numpy(np.arange(len(data))).long()\n",
    "#         import pdb\n",
    "#         pdb.set_trace()\n",
    "        choices_to_feed_to_pca = choices.cpu().data.numpy().reshape(8, batch_size, img_size ** 2).reshape(-1, img_size ** 2)\n",
    "        latent_choices = model.autoencoder.encode(choices_to_feed_to_pca).reshape(8, batch_size, -1)\n",
    "       \n",
    "        if cuda:\n",
    "            indices = indices.cuda()\n",
    "        targets = choices[labels.data, indices].squeeze()\n",
    "        # Get latent representations of targets\n",
    "        targets = targets.view(batch_size, -1)\n",
    "        latent_targets = model.autoencoder.encode(targets.cpu().data.numpy())\n",
    "        # Convert to Torch variable\n",
    "        latent_targets = torch.from_numpy(latent_targets).float()\n",
    "        if cuda:\n",
    "            latent_targets = latent_targets.cuda()\n",
    "            \n",
    "        \n",
    "        latent_targets = Variable(latent_targets)\n",
    "        test_loss += F.mse_loss(latent_predictions, latent_targets, size_average=False).data[0]\n",
    "        \n",
    "        sq_err = (latent_choices - latent_predictions.cpu().data.numpy()) ** 2\n",
    "        tot_sq_err = sq_err.sum(2)\n",
    "        \n",
    "        preds = np.argmin(tot_sq_err, 0)\n",
    "#         import pdb\n",
    "#         pdb.set_trace()\n",
    "        correct += np.sum(preds == labels.cpu().data.numpy())\n",
    "        \n",
    "#         residuals = latent_targets - latent_predictions\n",
    "#         squared_error = residuals ** 2\n",
    "#         pred = squared_error.data.min(1, keepdim=True)[1] # get the index of the min mse choice\n",
    "#         correct += pred.eq(labels.data.view_as(pred)).cpu().sum()\n",
    "\n",
    "    test_loss /= test_data.size()\n",
    "    print('\\nTest set: Average loss: {:.4f}, Accuracy: {}/{} ({:.0f}%)\\n'.format(\n",
    "        test_loss, correct, test_data.size(),\n",
    "        100. * correct / test_data.size()))"
   ]
  },
  {
   "cell_type": "code",
   "execution_count": 14,
   "metadata": {
    "scrolled": false
   },
   "outputs": [
    {
     "name": "stdout",
     "output_type": "stream",
     "text": [
      "Train Epoch: 1 Loss: 8.177875\n",
      "Train Epoch: 2 Loss: 4.461903\n",
      "Train Epoch: 3 Loss: 3.933215\n",
      "Train Epoch: 4 Loss: 3.614869\n",
      "Train Epoch: 5 Loss: 3.381038\n",
      "Train Epoch: 6 Loss: 3.192949\n",
      "Train Epoch: 7 Loss: 3.034855\n",
      "Train Epoch: 8 Loss: 2.898807\n",
      "Train Epoch: 9 Loss: 2.779972\n",
      "Train Epoch: 10 Loss: 2.675024\n",
      "Train Epoch: 11 Loss: 2.581498\n",
      "Train Epoch: 12 Loss: 2.497500\n",
      "Train Epoch: 13 Loss: 2.421537\n",
      "Train Epoch: 14 Loss: 2.352416\n",
      "Train Epoch: 15 Loss: 2.289175\n",
      "Train Epoch: 16 Loss: 2.231026\n",
      "Train Epoch: 17 Loss: 2.177321\n",
      "Train Epoch: 18 Loss: 2.127520\n",
      "Train Epoch: 19 Loss: 2.081170\n",
      "Train Epoch: 20 Loss: 2.037890\n"
     ]
    }
   ],
   "source": [
    "epochs = 20\n",
    "for epoch in range(1, epochs + 1):\n",
    "    train(epoch)\n",
    "#     test(['1_layer'])    \n",
    "#     train_autoencoder_only(epoch)"
   ]
  },
  {
   "cell_type": "code",
   "execution_count": 17,
   "metadata": {},
   "outputs": [
    {
     "name": "stdout",
     "output_type": "stream",
     "text": [
      "['1_layer']\n",
      "\n",
      "Test set: Average loss: 747.1060, Accuracy: 4/10 (40%)\n",
      "\n",
      "['2_layer']\n",
      "\n",
      "Test set: Average loss: 365.5251, Accuracy: 10/18 (56%)\n",
      "\n",
      "['3_layer']\n",
      "\n",
      "Test set: Average loss: 474.4325, Accuracy: 27/50 (54%)\n",
      "\n",
      "['logic']\n",
      "\n",
      "Test set: Average loss: 457.1030, Accuracy: 3/6 (50%)\n",
      "\n",
      "None\n",
      "\n",
      "Test set: Average loss: 482.3185, Accuracy: 44/84 (52%)\n",
      "\n"
     ]
    }
   ],
   "source": [
    "test_batch_size=2\n",
    "for s in [['1_layer'], ['2_layer'], ['3_layer'], ['logic'], None]:\n",
    "    print(s)\n",
    "    test(s)"
   ]
  },
  {
   "cell_type": "code",
   "execution_count": 29,
   "metadata": {},
   "outputs": [],
   "source": [
    "def show_batch_of_images(img_batch, img_size=(1,1), grid_size=None, image_path=None, **kwargs):\n",
    "    # How many squares for a square grid that can fit all images\n",
    "    if grid_size == None:\n",
    "        grid_size = math.ceil(math.sqrt(len(img_batch)))\n",
    "        grid_size = (grid_size, grid_size)\n",
    "    fig, axs = plt.subplots(grid_size[0], grid_size[1], figsize=(img_size[0] * grid_size[0], img_size[1] * grid_size[1]))\n",
    "    # Turn the 2d array of axes to a 1d array\n",
    "    axs = axs.flatten()\n",
    "    for i, img in enumerate(img_batch):\n",
    "        axs[i].imshow(img.reshape(28,28), **kwargs)\n",
    "    # Do this separately in case the number of images we want to show is not a perfect square\n",
    "    for i in range(grid_size[0] * grid_size[1]):\n",
    "        axs[i].axis('off')\n",
    "    if image_path is not None:\n",
    "        print(f'saving to {image_path}')\n",
    "        plt.savefig(image_path)\n",
    "    plt.show()\n",
    "    return fig, axs"
   ]
  },
  {
   "cell_type": "code",
   "execution_count": 40,
   "metadata": {},
   "outputs": [
    {
     "data": {
      "image/png": "[encoded data removed]",
      "text/plain": [
       "<matplotlib.figure.Figure at 0x7fc2ae3d2eb8>"
      ]
     },
     "metadata": {},
     "output_type": "display_data"
    }
   ],
   "source": [
    "test_batch_size = 1\n",
    "batch_size, data, latent_targets = None, None, None\n",
    "test_loader = test_data.get_batch_iterator(test_batch_size)\n",
    "\n",
    "for batch_idx, (data, labels) in enumerate(test_loader):\n",
    "    batch_size = len(data)\n",
    "    data, labels = torch.from_numpy(data).float(), torch.from_numpy(labels).long()\n",
    "    if cuda:\n",
    "        data, labels = data.cuda(), labels.cuda()\n",
    "    data, labels = Variable(data), Variable(labels)\n",
    "    optimizer.zero_grad()\n",
    "    latent_predictions = model(data[:, :, :, :8])\n",
    "    choices = data[:, :, :, 8:].permute(3, 0, 1, 2)\n",
    "    indices = torch.from_numpy(np.arange(len(data))).long()\n",
    "    if cuda:\n",
    "        indices = indices.cuda()\n",
    "    targets = choices[labels.data, indices].squeeze()\n",
    "    # Get latent representations of targets\n",
    "    targets = targets.view(batch_size, -1)\n",
    "    latent_targets = model.autoencoder.encode(targets.cpu().data.numpy())\n",
    "    # Convert to Torch variable\n",
    "    latent_targets = torch.from_numpy(latent_targets).float()\n",
    "    if cuda:\n",
    "        latent_targets = latent_targets.cuda()\n",
    "    latent_targets = Variable(latent_targets)\n",
    "    break\n",
    "\n",
    "setup = data[:, :, :, :8]\n",
    "setup = setup.permute(3, 0, 1, 2).cpu().data.numpy()\n",
    "setup = setup.reshape(-1, 28, 28)\n",
    "\n",
    "originals = targets.cpu().data.numpy().reshape(-1, 28, 28)\n",
    "\n",
    "decoded_predictions = model.autoencoder.decode(latent_predictions.cpu().data.numpy()).reshape(-1, 28, 28)\n",
    "\n",
    "show_batch_of_images(np.concatenate([setup, originals, decoded_predictions]),\n",
    "                     img_size=(test_batch_size, 10),\n",
    "                     grid_size=(10, test_batch_size));"
   ]
  },
  {
   "cell_type": "code",
   "execution_count": 24,
   "metadata": {},
   "outputs": [
    {
     "name": "stdout",
     "output_type": "stream",
     "text": [
      "saving to out/img/qa_5_setup\n"
     ]
    },
    {
     "data": {
      "image/png": "[encoded data removed]",
      "text/plain": [
       "<matplotlib.figure.Figure at 0x7fc2acf49dd8>"
      ]
     },
     "metadata": {},
     "output_type": "display_data"
    },
    {
     "data": {
      "image/png": "[encoded data removed]",
      "text/plain": [
       "<matplotlib.figure.Figure at 0x7fc2acf49e80>"
      ]
     },
     "metadata": {},
     "output_type": "display_data"
    },
    {
     "data": {
      "image/png": "[encoded data removed]",
      "text/plain": [
       "<matplotlib.figure.Figure at 0x7fc2ae262128>"
      ]
     },
     "metadata": {},
     "output_type": "display_data"
    }
   ],
   "source": [
    "img_index = 5\n",
    "\n",
    "res = np.concatenate([setup])\n",
    "fig, axs = show_batch_of_images(res, img_size=(2,2), image_path=f'out/img/qa_{img_index}_setup', cmap='gray')\n",
    "\n",
    "fig = plt.figure()\n",
    "plt.imshow(decoded_predictions[0], cmap='gray')\n",
    "plt.axis('off')\n",
    "plt.savefig(f'out/img/qa_{img_index}_guess')\n",
    "\n",
    "fig = plt.figure()\n",
    "plt.imshow(originals[0], cmap='gray')\n",
    "plt.axis('off')\n",
    "plt.savefig(f'out/img/qa_{img_index}_true')"
   ]
  },
  {
   "cell_type": "code",
   "execution_count": 39,
   "metadata": {},
   "outputs": [],
   "source": [
    "encoded = model.encoder(data)\n",
    "eps = Variable(torch.randn(encoded.size())).cuda()\n",
    "encoded_jittered = encoded + eps * 10"
   ]
  },
  {
   "cell_type": "code",
   "execution_count": 63,
   "metadata": {},
   "outputs": [
    {
     "data": {
      "text/plain": [
       "<matplotlib.figure.Figure at 0x7fd7b6431b38>"
      ]
     },
     "metadata": {},
     "output_type": "display_data"
    }
   ],
   "source": [
    "fig\n",
    "plt.savefig('asd.jpg')"
   ]
  },
  {
   "cell_type": "code",
   "execution_count": 40,
   "metadata": {},
   "outputs": [],
   "source": [
    "jittered_reconstruction = model.decoder(encoded_jittered)"
   ]
  },
  {
   "cell_type": "code",
   "execution_count": 47,
   "metadata": {},
   "outputs": [],
   "source": [
    "start, end = data[5, :], data[3, :]\n",
    "fades = start\n",
    "for i in range(1, test_batch_size - 1):\n",
    "    coeff = i / (test_batch_size - 1)\n",
    "    new = end * coeff + start * (1 - coeff)\n",
    "    fades = torch.cat((fades, new), 0)\n",
    "fades = torch.cat((fades, end), 0) "
   ]
  },
  {
   "cell_type": "code",
   "execution_count": 48,
   "metadata": {},
   "outputs": [],
   "source": [
    "originals = data.view(test_batch_size, 28, 28).cpu().data.numpy()\n",
    "reconstructions = output.view(test_batch_size, 28, 28).cpu().data.numpy()\n",
    "jittered = jittered_reconstruction.view(test_batch_size, 28, 28).cpu().data.numpy()\n",
    "faded = fades.view(test_batch_size, 28, 28).cpu().data.numpy()"
   ]
  },
  {
   "cell_type": "code",
   "execution_count": 49,
   "metadata": {},
   "outputs": [
    {
     "data": {
      "image/png": "[encoded data removed]",
      "text/plain": [
       "<matplotlib.figure.Figure at 0x7f8911fc3390>"
      ]
     },
     "metadata": {},
     "output_type": "display_data"
    }
   ],
   "source": [
    "def show_batch_of_images(img_batch, img_size=(1,1), grid_size=None):\n",
    "    # How many squares for a square grid that can fit all images\n",
    "    if grid_size == None:\n",
    "        grid_size = math.ceil(math.sqrt(len(img_batch)))\n",
    "        grid_size = (grid_size, grid_size)\n",
    "    fig, axs = plt.subplots(grid_size[0], grid_size[1], figsize=(img_size[0] * grid_size[0], img_size[1] * grid_size[1]))\n",
    "    # Turn the 2d array of axes to a 1d array\n",
    "    axs = axs.flatten()\n",
    "    for i, img in enumerate(img_batch):\n",
    "        axs[i].imshow(img.reshape(28,28))\n",
    "    # Do this separately in case the number of images we want to show is not a perfect square\n",
    "    for i in range(grid_size[0] * grid_size[1]):\n",
    "        axs[i].axis('off')\n",
    "    plt.show()\n",
    "\n",
    "show_batch_of_images(np.concatenate([originals, reconstructions, jittered, faded]), img_size=(test_batch_size, 1), grid_size=(4, test_batch_size))"
   ]
  },
  {
   "cell_type": "code",
   "execution_count": null,
   "metadata": {},
   "outputs": [],
   "source": []
  }
 ],
 "metadata": {
  "kernelspec": {
   "display_name": "Python [conda env:pytorch]",
   "language": "python",
   "name": "conda-env-pytorch-py"
  },
  "language_info": {
   "codemirror_mode": {
    "name": "ipython",
    "version": 3
   },
   "file_extension": ".py",
   "mimetype": "text/x-python",
   "name": "python",
   "nbconvert_exporter": "python",
   "pygments_lexer": "ipython3",
   "version": "3.6.2"
  }
 },
 "nbformat": 4,
 "nbformat_minor": 2
}
