{
 "cells": [
  {
   "cell_type": "code",
   "execution_count": 1,
   "metadata": {
    "collapsed": true
   },
   "outputs": [],
   "source": [
    "import torch\n",
    "import torch.nn as nn\n",
    "import torch.nn.functional as F\n",
    "from torch.autograd import Variable\n",
    "import torch.optim as optim"
   ]
  },
  {
   "cell_type": "code",
   "execution_count": 6,
   "metadata": {},
   "outputs": [],
   "source": [
    "N, D_in, D_out, hidden_s,hidden_n = 10000, 50, 5, 1000, 3\n",
    "batch_size = 10\n",
    "num_batches = N // 100\n",
    "\n",
    "epochs = 500\n",
    "learning_rate = 1e-4\n",
    "\n",
    "xx, yy = 0, 0 # TODO\n",
    "\n",
    "dtype = torch.FloatTensor\n"
   ]
  },
  {
   "cell_type": "code",
   "execution_count": 4,
   "metadata": {},
   "outputs": [],
   "source": [
    "class Net(nn.Module):\n",
    "    def __init__(self, D_in, D_out, layer_size,hidden_n):\n",
    "        super(Net, self).__init__()  \n",
    "        \n",
    "        self.hidden_layers = hidden_n - 1\n",
    "        \n",
    "        self.first_linear = torch.nn.Linear(D_in,hidden_s)\n",
    "        self.middle_layer = torch.nn.Linear(hidden_s, hidden_s)\n",
    "        self.final_layer = torch.nn.Linear(hidden_s, D_out)\n",
    "        \n",
    "    def forward(self, x):\n",
    "        h_relu = self.first_linear(x).clamp(min=0)\n",
    "        for _ in range(self.hidden_layers):\n",
    "            h_relu = self.middle_layer(h_relu).clamp(min=0)   \n",
    "        y_pred = self.final_layer(h_relu)\n",
    "        return y_pred"
   ]
  },
  {
   "cell_type": "code",
   "execution_count": null,
   "metadata": {
    "collapsed": true
   },
   "outputs": [],
   "source": [
    "model = Net(D_in, D_out, hidden_s,hidden_n)\n",
    "\n",
    "criterion = nn.MSELoss(size_average=False) # why size_avg=false\n",
    "# what's in model.parameters\n",
    "optimizer = torch.optim.SGD(model.parameters(), lr = learning_rate)\n",
    "\n",
    "for i in range(epochs):\n",
    "    y_pred = model(xx)\n",
    "    \n",
    "    loss = criterion(y_pred, yy)\n",
    "    print(loss.data[0])\n",
    "    \n",
    "    optimizer.zero_grad()\n",
    "    loss.backward()\n",
    "    optimizer.step()"
   ]
  }
 ],
 "metadata": {
  "kernelspec": {
   "display_name": "Python 3",
   "language": "python",
   "name": "python3"
  },
  "language_info": {
   "codemirror_mode": {
    "name": "ipython",
    "version": 3
   },
   "file_extension": ".py",
   "mimetype": "text/x-python",
   "name": "python",
   "nbconvert_exporter": "python",
   "pygments_lexer": "ipython3",
   "version": "3.6.2"
  }
 },
 "nbformat": 4,
 "nbformat_minor": 2
}
