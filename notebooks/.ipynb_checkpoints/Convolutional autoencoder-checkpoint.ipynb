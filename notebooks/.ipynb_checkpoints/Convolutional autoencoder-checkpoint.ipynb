{
 "cells": [
  {
   "cell_type": "code",
   "execution_count": null,
   "metadata": {
    "collapsed": true
   },
   "outputs": [],
   "source": [
    "from keras.layers import Input, Dense\n",
    "from keras.models import Model\n",
    "\n",
    "# this is the size of our encoded representations\n",
    "encoding_dim = 32  # 32 floats -> compression of factor 24.5, assuming the input is 784 floats\n",
    "\n",
    "# this is our input placeholder\n",
    "input_img = Input(shape=(784,))\n",
    "# \"encoded\" is the encoded representation of the input\n",
    "encoded = Dense(encoding_dim, activation='relu')(input_img)\n",
    "# \"decoded\" is the lossy reconstruction of the input\n",
    "decoded = Dense(784, activation='sigmoid')(encoded)\n",
    "\n",
    "# this model maps an input to its reconstruction\n",
    "autoencoder = Model(input_img, decoded)\n",
    "\n",
    "# this model maps an input to its encoded representation\n",
    "encoder = Model(input_img, encoded)\n",
    "\n",
    "# create a placeholder for an encoded (32-dimensional) input\n",
    "encoded_input = Input(shape=(encoding_dim,))\n",
    "# retrieve the last layer of the autoencoder model\n",
    "decoder_layer = autoencoder.layers[-1]\n",
    "# create the decoder model\n",
    "decoder = Model(encoded_input, decoder_layer(encoded_input))\n",
    "\n",
    "autoencoder.compile(optimizer='adadelta', loss='binary_crossentropy')"
   ]
  },
  {
   "cell_type": "code",
   "execution_count": 1,
   "metadata": {},
   "outputs": [
    {
     "name": "stderr",
     "output_type": "stream",
     "text": [
      "Using TensorFlow backend.\n"
     ]
    }
   ],
   "source": [
    "from keras.datasets import mnist\n",
    "import numpy as np\n",
    "(x_train, _), (x_test, _) = mnist.load_data()\n",
    "\n",
    "x_train = x_train.astype('float32') / 255.\n",
    "x_test = x_test.astype('float32') / 255.\n",
    "x_train = x_train.reshape((len(x_train), np.prod(x_train.shape[1:])))\n",
    "x_test = x_test.reshape((len(x_test), np.prod(x_test.shape[1:])))\n",
    "print(x_train.shape)\n",
    "print( x_test.shape)"
   ]
  },
  {
   "cell_type": "code",
   "execution_count": 12,
   "metadata": {},
   "outputs": [
    {
     "data": {
      "text/plain": [
       "(60000, 784)"
      ]
     },
     "execution_count": 12,
     "metadata": {},
     "output_type": "execute_result"
    }
   ],
   "source": [
    "x_train.shape"
   ]
  },
  {
   "cell_type": "code",
   "execution_count": 10,
   "metadata": {
    "scrolled": true
   },
   "outputs": [
    {
     "name": "stdout",
     "output_type": "stream",
     "text": [
      "Train on 60000 samples, validate on 10000 samples\n",
      "Epoch 1/50\n",
      "60000/60000 [==============================] - 1s - loss: 0.1052 - val_loss: 0.1033\n",
      "Epoch 2/50\n",
      "60000/60000 [==============================] - 1s - loss: 0.1048 - val_loss: 0.1030\n",
      "Epoch 3/50\n",
      "60000/60000 [==============================] - 1s - loss: 0.1044 - val_loss: 0.1026\n",
      "Epoch 4/50\n",
      "60000/60000 [==============================] - 1s - loss: 0.1041 - val_loss: 0.1023\n",
      "Epoch 5/50\n",
      "60000/60000 [==============================] - 1s - loss: 0.1038 - val_loss: 0.1020\n",
      "Epoch 6/50\n",
      "60000/60000 [==============================] - 1s - loss: 0.1035 - val_loss: 0.1017\n",
      "Epoch 7/50\n",
      "60000/60000 [==============================] - 1s - loss: 0.1032 - val_loss: 0.1014\n",
      "Epoch 8/50\n",
      "60000/60000 [==============================] - 1s - loss: 0.1029 - val_loss: 0.1012\n",
      "Epoch 9/50\n",
      "60000/60000 [==============================] - 1s - loss: 0.1027 - val_loss: 0.1009\n",
      "Epoch 10/50\n",
      "60000/60000 [==============================] - 1s - loss: 0.1024 - val_loss: 0.1006\n",
      "Epoch 11/50\n",
      "60000/60000 [==============================] - 1s - loss: 0.1022 - val_loss: 0.1004\n",
      "Epoch 12/50\n",
      "60000/60000 [==============================] - 1s - loss: 0.1020 - val_loss: 0.1002\n",
      "Epoch 13/50\n",
      "60000/60000 [==============================] - 1s - loss: 0.1017 - val_loss: 0.1000\n",
      "Epoch 14/50\n",
      "60000/60000 [==============================] - 1s - loss: 0.1015 - val_loss: 0.0998\n",
      "Epoch 15/50\n",
      "60000/60000 [==============================] - 1s - loss: 0.1013 - val_loss: 0.0996\n",
      "Epoch 16/50\n",
      "60000/60000 [==============================] - 1s - loss: 0.1011 - val_loss: 0.0994\n",
      "Epoch 17/50\n",
      "60000/60000 [==============================] - 1s - loss: 0.1010 - val_loss: 0.0992\n",
      "Epoch 18/50\n",
      "60000/60000 [==============================] - 1s - loss: 0.1008 - val_loss: 0.0991\n",
      "Epoch 19/50\n",
      "60000/60000 [==============================] - 1s - loss: 0.1006 - val_loss: 0.0989\n",
      "Epoch 20/50\n",
      "60000/60000 [==============================] - 2s - loss: 0.1005 - val_loss: 0.0987\n",
      "Epoch 21/50\n",
      "60000/60000 [==============================] - 1s - loss: 0.1003 - val_loss: 0.0986\n",
      "Epoch 22/50\n",
      "60000/60000 [==============================] - 1s - loss: 0.1002 - val_loss: 0.0985\n",
      "Epoch 23/50\n",
      "60000/60000 [==============================] - 1s - loss: 0.1000 - val_loss: 0.0983\n",
      "Epoch 24/50\n",
      "60000/60000 [==============================] - 1s - loss: 0.0999 - val_loss: 0.0982\n",
      "Epoch 25/50\n",
      "60000/60000 [==============================] - 2s - loss: 0.0998 - val_loss: 0.0981\n",
      "Epoch 26/50\n",
      "60000/60000 [==============================] - 2s - loss: 0.0996 - val_loss: 0.0980\n",
      "Epoch 27/50\n",
      "60000/60000 [==============================] - 2s - loss: 0.0995 - val_loss: 0.0978\n",
      "Epoch 28/50\n",
      "60000/60000 [==============================] - 2s - loss: 0.0994 - val_loss: 0.0977\n",
      "Epoch 29/50\n",
      "60000/60000 [==============================] - 2s - loss: 0.0993 - val_loss: 0.0976\n",
      "Epoch 30/50\n",
      "60000/60000 [==============================] - 4s - loss: 0.0992 - val_loss: 0.0975\n",
      "Epoch 31/50\n",
      "60000/60000 [==============================] - 5s - loss: 0.0990 - val_loss: 0.0974\n",
      "Epoch 32/50\n",
      "60000/60000 [==============================] - 2s - loss: 0.0989 - val_loss: 0.0973\n",
      "Epoch 33/50\n",
      "60000/60000 [==============================] - 2s - loss: 0.0988 - val_loss: 0.0972\n",
      "Epoch 34/50\n",
      "60000/60000 [==============================] - 2s - loss: 0.0987 - val_loss: 0.0971\n",
      "Epoch 35/50\n",
      "60000/60000 [==============================] - 2s - loss: 0.0986 - val_loss: 0.0970\n",
      "Epoch 36/50\n",
      "60000/60000 [==============================] - 3s - loss: 0.0985 - val_loss: 0.0969\n",
      "Epoch 37/50\n",
      "60000/60000 [==============================] - 1s - loss: 0.0984 - val_loss: 0.0968\n",
      "Epoch 38/50\n",
      "60000/60000 [==============================] - 1s - loss: 0.0983 - val_loss: 0.0967\n",
      "Epoch 39/50\n",
      "60000/60000 [==============================] - 1s - loss: 0.0982 - val_loss: 0.0966\n",
      "Epoch 40/50\n",
      "60000/60000 [==============================] - 1s - loss: 0.0982 - val_loss: 0.0965\n",
      "Epoch 41/50\n",
      "60000/60000 [==============================] - 1s - loss: 0.0981 - val_loss: 0.0964\n",
      "Epoch 42/50\n",
      "60000/60000 [==============================] - 1s - loss: 0.0980 - val_loss: 0.0963\n",
      "Epoch 43/50\n",
      "60000/60000 [==============================] - 1s - loss: 0.0979 - val_loss: 0.0963\n",
      "Epoch 44/50\n",
      "60000/60000 [==============================] - 1s - loss: 0.0978 - val_loss: 0.0962\n",
      "Epoch 45/50\n",
      "60000/60000 [==============================] - 1s - loss: 0.0978 - val_loss: 0.0961\n",
      "Epoch 46/50\n",
      "60000/60000 [==============================] - 2s - loss: 0.0977 - val_loss: 0.0961\n",
      "Epoch 47/50\n",
      "60000/60000 [==============================] - 3s - loss: 0.0976 - val_loss: 0.0960\n",
      "Epoch 48/50\n",
      "60000/60000 [==============================] - 3s - loss: 0.0975 - val_loss: 0.0959\n",
      "Epoch 49/50\n",
      "60000/60000 [==============================] - 3s - loss: 0.0975 - val_loss: 0.0959\n",
      "Epoch 50/50\n",
      "60000/60000 [==============================] - 3s - loss: 0.0974 - val_loss: 0.0958\n",
      "Wall time: 1min 50s\n"
     ]
    },
    {
     "data": {
      "text/plain": [
       "<keras.callbacks.History at 0x2865472d1d0>"
      ]
     },
     "execution_count": 10,
     "metadata": {},
     "output_type": "execute_result"
    }
   ],
   "source": [
    "%%time\n",
    "autoencoder.fit(x_train, x_train,\n",
    "                epochs=50,\n",
    "                batch_size=256,\n",
    "                shuffle=True,\n",
    "                validation_data=(x_test, x_test))"
   ]
  },
  {
   "cell_type": "code",
   "execution_count": 8,
   "metadata": {
    "collapsed": true
   },
   "outputs": [],
   "source": [
    "# encode and decode some digits\n",
    "# note that we take them from the *test* set\n",
    "encoded_imgs = encoder.predict(x_test)\n",
    "decoded_imgs = decoder.predict(encoded_imgs)\n",
    "\n",
    "# use Matplotlib (don't ask)\n",
    "import matplotlib.pyplot as plt\n",
    "\n",
    "n = 10  # how many digits we will display\n",
    "plt.figure(figsize=(20, 4))\n",
    "for i in range(n):\n",
    "    # display original\n",
    "    ax = plt.subplot(2, n, i + 1)\n",
    "    plt.imshow(x_test[i].reshape(28, 28))\n",
    "    plt.gray()\n",
    "    ax.get_xaxis().set_visible(False)\n",
    "    ax.get_yaxis().set_visible(False)\n",
    "\n",
    "    # display reconstruction\n",
    "    ax = plt.subplot(2, n, i + 1 + n)\n",
    "    plt.imshow(decoded_imgs[i].reshape(28, 28))\n",
    "    plt.gray()\n",
    "    ax.get_xaxis().set_visible(False)\n",
    "    ax.get_yaxis().set_visible(False)\n",
    "plt.show()"
   ]
  }
 ],
 "metadata": {
  "kernelspec": {
   "display_name": "Python 3",
   "language": "python",
   "name": "python3"
  },
  "language_info": {
   "codemirror_mode": {
    "name": "ipython",
    "version": 3
   },
   "file_extension": ".py",
   "mimetype": "text/x-python",
   "name": "python",
   "nbconvert_exporter": "python",
   "pygments_lexer": "ipython3",
   "version": "3.6.1"
  }
 },
 "nbformat": 4,
 "nbformat_minor": 2
}
