{
 "cells": [
  {
   "cell_type": "code",
   "execution_count": 21,
   "metadata": {},
   "outputs": [],
   "source": [
    "import json\n",
    "import os\n",
    "import shutil\n",
    "import pandas as pd\n",
    "pd.set_option('display.max_columns', None)"
   ]
  },
  {
   "cell_type": "markdown",
   "metadata": {},
   "source": [
    "# Collect results for a set of folders"
   ]
  },
  {
   "cell_type": "code",
   "execution_count": 44,
   "metadata": {},
   "outputs": [
    {
     "name": "stdout",
     "output_type": "stream",
     "text": [
      "CPU times: user 12.4 s, sys: 112 ms, total: 12.5 s\n",
      "Wall time: 12.7 s\n"
     ]
    }
   ],
   "source": [
    "%%time\n",
    "\n",
    "save = False\n",
    "\n",
    "df = pd.DataFrame(columns=['folder', 'ae_hidden_sizes', 'ae_type', 'batch_size', 'best_acc', 'best_epoch',\n",
    "       'best_val_loss', 'clf_hidden_sizes', 'clf_nonlinearity', 'clf_type',\n",
    "       'encoding_size', 'epoch_patience', 'epochs_tained_for', 'img_size',\n",
    "       'learning_rate', 'momentum', 'num_epochs', 'ra_hidden_size',\n",
    "       'ra_network_type', 'ra_nonlinearity', 'ra_num_layers', 'ra_type',\n",
    "       'time_sec', 'weight_decay'])\n",
    "\n",
    "# Assumes your experiment results are stored in {i}.json files under {parent_expdir}/expdir/{res_folder}\n",
    "# Collects over all expdirs in the iterable below\n",
    "parent_expdir = 'exp'\n",
    "res_folder = 'res'\n",
    "expdirs = ['01_e2e']\n",
    "\n",
    "for expdir in expdirs:\n",
    "    for f in os.listdir(os.path.join(parent_expdir, expdir, res_folder)):\n",
    "        if f[-4:] == 'json':\n",
    "            with open(os.path.join(parent_expdir, expdir, res_folder, f)) as fp:\n",
    "                x = json.load(fp)\n",
    "                x['folder'] = expdir\n",
    "                del x['losses']\n",
    "                x['id'] = int(f.split('.')[0])\n",
    "                x['clf_hidden_sizes'] = str(x['clf_hidden_sizes'])\n",
    "                x['ae_hidden_sizes'] = str(x['ae_hidden_sizes'])\n",
    "            df = df.append(pd.DataFrame(x, index=[0]))\n",
    "\n",
    "if save:\n",
    "    df.to_csv(f'summary_{\"_\".join(expdirs)}.csv', index=False)"
   ]
  },
  {
   "cell_type": "markdown",
   "metadata": {},
   "source": [
    "# View best results"
   ]
  },
  {
   "cell_type": "code",
   "execution_count": null,
   "metadata": {},
   "outputs": [],
   "source": [
    "best = df.sort_values(by='best_acc', ascending=False).head(10)\n",
    "best"
   ]
  },
  {
   "cell_type": "markdown",
   "metadata": {},
   "source": [
    "# Which models did not stop early?"
   ]
  },
  {
   "cell_type": "code",
   "execution_count": null,
   "metadata": {},
   "outputs": [],
   "source": [
    "not_stopped = df[df.num_epochs <= df.epochs_tained_for].sort_values(by='best_acc', ascending=False)\n",
    "not_stopped"
   ]
  },
  {
   "cell_type": "markdown",
   "metadata": {},
   "source": [
    "# Get a list of hyperparameters to retrain models that did not stop early"
   ]
  },
  {
   "cell_type": "code",
   "execution_count": null,
   "metadata": {},
   "outputs": [],
   "source": [
    "from ast import literal_eval\n",
    "ids = [134]\n",
    "\n",
    "hyperparams = []\n",
    "\n",
    "for idx in ids:\n",
    "    x = not_stopped[not_stopped.id == idx].drop(columns=['best_acc',\n",
    "        'best_epoch','best_val_loss', 'epochs_tained_for', 'folder',\n",
    "        'time_sec']).iloc[0].to_dict()\n",
    "    x['ae_hidden_sizes'] = literal_eval(x['ae_hidden_sizes'])\n",
    "    x['clf_hidden_sizes'] = literal_eval(x['clf_hidden_sizes'])\n",
    "    hyperparams.append(x)\n",
    "\n",
    "hyperparams"
   ]
  }
 ],
 "metadata": {
  "kernelspec": {
   "display_name": "pyTorch(display)",
   "language": "python",
   "name": "pytorch"
  },
  "language_info": {
   "codemirror_mode": {
    "name": "ipython",
    "version": 3
   },
   "file_extension": ".py",
   "mimetype": "text/x-python",
   "name": "python",
   "nbconvert_exporter": "python",
   "pygments_lexer": "ipython3",
   "version": "3.6.4"
  }
 },
 "nbformat": 4,
 "nbformat_minor": 2
}
